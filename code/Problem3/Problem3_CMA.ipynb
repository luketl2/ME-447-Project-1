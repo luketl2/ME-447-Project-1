{
 "cells": [
  {
   "cell_type": "markdown",
   "metadata": {},
   "source": [
    "# Problem 3 CMA\n",
    "Bhargav Chandaka and Luke LaLonde"
   ],
   "metadata": {}
  },
  {
   "cell_type": "code",
   "execution_count": 22,
   "metadata": {},
   "outputs": [],
   "source": [
    "import sys\n",
    "sys.path.append('../')\n",
    "from common.cma_plots import *\n",
    "import math\n",
    "from functools import partial"
   ]
  },
  {
   "cell_type": "code",
   "execution_count": 23,
   "metadata": {},
   "outputs": [],
   "source": [
    "def _parabola_impl(x, shift_x):\n",
    "    return 10*x**2\n",
    "current_problem = partial(_parabola_impl, shift_x = 0.0)"
   ]
  },
  {
   "cell_type": "code",
   "execution_count": 24,
   "metadata": {},
   "outputs": [],
   "source": [
    "low_bound = (-4, 0)\n",
    "high_bound = (10,12)\n",
    "# plot_problem_3d(current_problem, (low_bound, high_bound))"
   ]
  },
  {
   "cell_type": "code",
   "execution_count": 25,
   "metadata": {},
   "outputs": [],
   "source": [
    "class CMAES:\n",
    "    \"\"\"Naive CMA implementation\"\"\"\n",
    "    \n",
    "    def __init__(self, initial_mean, sigma, popsize, **kwargs):\n",
    "        \"\"\"Please do all the initialization. The reserve space and \n",
    "        code for collecting the statistics are already provided.\"\"\"\n",
    "\n",
    "        # Things that evolve : centroid, sigma, paths etc.\n",
    "        self.centroid = np.asarray(initial_mean).copy()\n",
    "        self.sigma = sigma\n",
    "        self.pc = np.zeros_like(initial_mean)\n",
    "        self.ps = np.zeros_like(initial_mean)        \n",
    "        self.C = np.eye(initial_mean.shape[0])\n",
    "        self.B = np.eye(self.C.shape[0])\n",
    "        self.diagD = np.ones(initial_mean.shape[0])\n",
    "        \n",
    "        # Optimal popsize \n",
    "        self.popsize = popsize\n",
    "        self.mu = popsize // 2\n",
    "        \n",
    "        # Update weights later on\n",
    "        # Constant weight policy\n",
    "        # self.weights = np.ones((self.mu, )) / self.mu\n",
    "\n",
    "        # Decreasing weight policy\n",
    "        self.weights = np.arange(self.mu, 0.0, -1.0)\n",
    "        self.weights /= np.sum(self.weights)\n",
    "        \n",
    "        # Negative, Positive weight policy\n",
    "        # unscaled_weights = np.arange(1.0 ,  1.0 + popsize)\n",
    "        # unscaled_weights = np.log(0.5 * (popsize + 1.0) / unscaled_weights)\n",
    "\n",
    "        # Utility variables\n",
    "        self.dim = initial_mean.shape[0]\n",
    "\n",
    "        # Expectation of a normal distribution\n",
    "        self.chiN = np.sqrt(self.dim) * (1.0 - 0.25 / self.dim + 1.0/(21.0 * self.dim**2))\n",
    "        self.mueff = 1.0 / np.linalg.norm(self.weights, 2)**2\n",
    "        self.generations = 0\n",
    "        \n",
    "        # Options\n",
    " \n",
    "        # Sigma adaptation\n",
    "        # cs is short for c_sigma\n",
    "        self.cs = kwargs.get(\"cs\", (2.0 + self.mueff) / (self.dim + self.mueff + 5.0))\n",
    "        # ds is short for d_sigma\n",
    "        self.ds = 1.0 + 2.0 * max(0.0, np.sqrt((self.mueff - 1.0)/ (self.dim + 1.0)) - 1.0) + self.cs\n",
    "        \n",
    "        # Covariance adaptation\n",
    "        self.cc = kwargs.get(\"cc\", (4.0 + self.mueff/self.dim) / (self.dim + 4.0 + 2.0 * self.mueff/self.dim))\n",
    "        self.ccov = 0.0\n",
    "        # If implementing the latest version of CMA according to the tutorial, \n",
    "        # these parameters can be useful\n",
    "        self.ccov1 = 2.0 / ((self.dim + 1.3)**2 + self.mueff)\n",
    "        self.ccovmu = min(1.0 - self.ccov1, 2.0 * (self.mueff - 2.0 + 1.0/self.mueff)/((self.dim + 2.0)**2 + self.mueff))\n",
    "        \n",
    "        # asserts to guide you\n",
    "        # assert self.dim == 2, \"We are dealing with a two-dimensional problem only\"\n",
    "        # assert self.centroid.shape == (2,), \"Centroid shape is incorrect, did you tranpose it by mistake?\"\n",
    "        # assert self.sigma > 0.0, \"Sigma is not a non-zero positive number!\"\n",
    "        # assert self.pc.shape == (2, ), \"pc shape is incorrect, did you tranpose it by mistake?\"\n",
    "        # assert self.ps.shape == (2, ), \"ps shape is incorrect, did you tranpose it by mistake?\"\n",
    "        # assert self.C.shape == (2, 2), \"C's shape is incorrect, remember C is a matrix!\"     \n",
    "        # assert type(self.popsize) == int, \"Population size not an integer\"\n",
    "        # assert self.popsize > 0 , \"Population size is negative!\"\n",
    "        # assert self.popsize > 2 , \"Too little population size, make it >2\"\n",
    "        \n",
    "        self.stats_centroids = []\n",
    "        self.stats_new_centroids = []\n",
    "        self.stats_covs = []\n",
    "        self.stats_new_covs = []\n",
    "        self.stats_offspring = []\n",
    "        self.stats_offspring_weights = []\n",
    "        self.stats_ps = []\n",
    "        self.stats_sigma = []\n",
    "    \n",
    "    def update(self, problem, population):\n",
    "        \"\"\"Update the current covariance matrix strategy from the\n",
    "        *population*.\n",
    "        \n",
    "        :param population: A list of individuals from which to update the\n",
    "                           parameters.\n",
    "        \"\"\"\n",
    "        # -- store current state of the algorithm\n",
    "        self.stats_centroids.append(copy.deepcopy(self.centroid))\n",
    "        self.stats_covs.append(copy.deepcopy(self.C))\n",
    "        self.stats_sigma.append(copy.deepcopy(self.sigma))\n",
    "        \n",
    "        population.sort(key=lambda ind: problem(*ind))\n",
    "        # population.sort(key=lambda ind: problem(ind[0], ind[1]))\n",
    "        # population.sort(key=problem)\n",
    "        \n",
    "        # -- store sorted offspring\n",
    "        self.stats_offspring.append(copy.deepcopy(population))\n",
    "        \n",
    "        old_centroid = self.centroid\n",
    "        # Note : the following does m <- <x>_w\n",
    "        # Note : this is equivalent to doing m <- m + sigma * <z>_w\n",
    "        # as x = m + sigma * z provided the weights sum to 1.0 which it\n",
    "        # does\n",
    "        self.centroid = np.dot(self.weights, population[0:self.mu])\n",
    "        \n",
    "        # -- store new centroid\n",
    "        self.stats_new_centroids.append(copy.deepcopy(self.centroid))\n",
    "        \n",
    "        c_diff = self.centroid - old_centroid\n",
    "        \n",
    "        # Cumulation : update evolution path\n",
    "        # Equivalent to in-class definition\n",
    "        self.ps = (1 - self.cs) * self.ps \\\n",
    "             + np.sqrt(self.cs * (2 - self.cs) * self.mueff) / self.sigma \\\n",
    "             * np.dot(self.B, (1. / self.diagD) * np.dot(self.B.T, c_diff))\n",
    "        \n",
    "        # -- store new evol path\n",
    "        self.stats_ps.append(copy.deepcopy(self.ps))\n",
    "        \n",
    "        hsig = float((np.linalg.norm(self.ps) / \n",
    "                np.sqrt(1. - (1. - self.cs)**(2. * (self.generations + 1.))) / self.chiN\n",
    "                < (1.4 + 2. / (self.dim + 1.))))\n",
    "        \n",
    "        self.pc = (1 - self.cc) * self.pc + hsig \\\n",
    "                  * np.sqrt(self.cc * (2 - self.cc) * self.mueff) / self.sigma \\\n",
    "                  * c_diff\n",
    "        \n",
    "        # Update covariance matrix\n",
    "        artmp = population[0:self.mu] - old_centroid\n",
    "        self.C = (1 - self.ccov1 - self.ccovmu + (1 - hsig) \\\n",
    "                   * self.ccov1 * self.cc * (2 - self.cc)) * self.C \\\n",
    "                + self.ccov1 * np.outer(self.pc, self.pc) \\\n",
    "                + self.ccovmu * np.dot((self.weights * artmp.T), artmp) \\\n",
    "                / self.sigma**2\n",
    "        \n",
    "        # -- store new covs\n",
    "        self.stats_new_covs.append(copy.deepcopy(self.C))\n",
    "        \n",
    "        self.sigma *= np.exp((np.linalg.norm(self.ps) / self.chiN - 1.) \\\n",
    "                                * self.cs / self.ds)\n",
    "        \n",
    "        self.diagD, self.B = np.linalg.eigh(self.C)\n",
    "        indx = np.argsort(self.diagD)\n",
    "        \n",
    "        self.cond = self.diagD[indx[-1]]/self.diagD[indx[0]]\n",
    "        \n",
    "        self.diagD = self.diagD[indx]**0.5\n",
    "        self.B = self.B[:, indx]\n",
    "        self.BD = self.B * self.diagD\n",
    "        \n",
    "    def plot_fitness(self):\n",
    "        best_generational_fitness = []\n",
    "        for i in np.array(self.stats_offspring)[:,0]:\n",
    "            best_generational_fitness.append(self.problem(*i))\n",
    "        best_generational_fitness = np.array(best_generational_fitness)\n",
    "        plt.plot(best_generational_fitness, label = \"Best Fitness in Generation\")\n",
    "        overall_max_fitness = best_generational_fitness[0]\n",
    "        best_overall_fitness = np.zeros(best_generational_fitness.size,)\n",
    "        for i in np.arange(best_generational_fitness.size):\n",
    "            if best_generational_fitness[i] < overall_max_fitness:\n",
    "                overall_max_fitness = best_generational_fitness[i]\n",
    "            best_overall_fitness[i] = overall_max_fitness\n",
    "        plt.plot(best_overall_fitness, label = \"Best Fitness Overall\")\n",
    "        \n",
    "        average_fitness = []\n",
    "        for pop in np.array(self.stats_offspring):\n",
    "            current_fitness = []\n",
    "            for member in pop:\n",
    "                current_fitness.append(self.problem(*member))\n",
    "            average_fitness.append(np.mean(np.array(current_fitness)))\n",
    "            \n",
    "        plt.plot(average_fitness, label = \"Average Fitness in Generation\")\n",
    "        plt.title('Fitness vs Generation')\n",
    "        plt.xlabel('generations')\n",
    "        plt.ylabel('fitness')\n",
    "        plt.legend(prop={'size': 12})\n",
    "        plt.show()\n",
    "        \n",
    "        print(\"Final best fitness: \", best_generational_fitness[-1])\n",
    "        \n",
    "    def plot_sigma(self):\n",
    "        plt.plot(self.stats_sigma)\n",
    "        plt.title('Sigma vs Generation')\n",
    "        plt.xlabel('generations')\n",
    "        plt.ylabel('variance')\n",
    "        plt.show()\n",
    "        \n",
    "        print(\"Final sigma: \", self.stats_sigma[-1])\n",
    "        \n",
    "    def run(self, problem):\n",
    "        self.problem = problem\n",
    "        \n",
    "        # At the start, clear all stored cache and start a new campaign\n",
    "        self.reset()\n",
    "        \n",
    "        while self.generations < 40:\n",
    "            # Sample the population here!\n",
    "            population = list(multivariate_normal(self.centroid, self.sigma**2 * self.C, self.popsize))\n",
    "\n",
    "            # Pass the population to update, which computes all new parameters \n",
    "            self.update(problem, population)\n",
    "            # print(np.array(population).shape)\n",
    "            self.generations += 1\n",
    "        else:\n",
    "            return population[0]\n",
    "        \n",
    "    def reset(self):\n",
    "        # Clears everything to rerun the problem\n",
    "        self.stats_centroids = []\n",
    "        self.stats_new_centroids = []\n",
    "        self.stats_covs = []\n",
    "        self.stats_new_covs = []\n",
    "        self.stats_offspring = []\n",
    "        self.stats_offspring_weights = []\n",
    "        self.stats_ps = []"
   ]
  },
  {
   "cell_type": "code",
   "execution_count": 26,
   "metadata": {},
   "outputs": [
    {
     "name": "stdout",
     "output_type": "stream",
     "text": [
      "Solution:  [-8.27840704e-19]\n"
     ]
    }
   ],
   "source": [
    "POP_SIZE = 40\n",
    "initial_centroid = np.random.randn(1, )\n",
    "initial_sigma = 0.2\n",
    "cma_es = CMAES(initial_centroid, initial_sigma, POP_SIZE)\n",
    "print('Solution: ',cma_es.run(current_problem))"
   ]
  },
  {
   "cell_type": "code",
   "execution_count": 27,
   "metadata": {},
   "outputs": [
    {
     "data": {
      "image/png": "[encoded data removed]",
      "text/plain": [
       "<Figure size 432x288 with 1 Axes>"
      ]
     },
     "metadata": {},
     "output_type": "display_data"
    },
    {
     "name": "stdout",
     "output_type": "stream",
     "text": [
      "Final best fitness:  6.853202313485691e-36\n"
     ]
    }
   ],
   "source": [
    "cma_es.plot_fitness()"
   ]
  },
  {
   "cell_type": "code",
   "execution_count": 28,
   "metadata": {},
   "outputs": [
    {
     "data": {
      "image/png": "[encoded data removed]",
      "text/plain": [
       "<Figure size 432x288 with 1 Axes>"
      ]
     },
     "metadata": {},
     "output_type": "display_data"
    },
    {
     "name": "stdout",
     "output_type": "stream",
     "text": [
      "Final sigma:  0.028519046722955597\n"
     ]
    }
   ],
   "source": [
    "cma_es.plot_sigma()"
   ]
  }
 ],
 "metadata": {
  "interpreter": {
   "hash": "5dbce0daa6874948c74f975606752df0c5993d73ad1eb19d39fcd75972827250"
  },
  "kernelspec": {
   "display_name": "Python 3",
   "language": "python",
   "name": "python3"
  },
  "language_info": {
   "codemirror_mode": {
    "name": "ipython",
    "version": 3
   },
   "file_extension": ".py",
   "mimetype": "text/x-python",
   "name": "python",
   "nbconvert_exporter": "python",
   "pygments_lexer": "ipython3",
   "version": "3.8.8"
  }
 },
 "nbformat": 4,
 "nbformat_minor": 2
}
