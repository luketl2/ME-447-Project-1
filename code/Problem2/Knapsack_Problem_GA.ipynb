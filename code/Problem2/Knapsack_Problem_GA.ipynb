{
 "cells": [
  {
   "cell_type": "code",
   "execution_count": 218,
   "id": "1be67725",
   "metadata": {},
   "outputs": [],
   "source": [
    "# Start by importing numpy\n",
    "import numpy as np\n",
    "\n",
    "# Load the data for the problem\n",
    "my_data = np.load('A.npz')\n",
    "bag_capacity = int(my_data['capacity'])\n",
    "n_items = int(my_data['n_items'])\n",
    "item_values = my_data['item_values']\n",
    "item_weights = my_data['item_weights']"
   ]
  },
  {
   "cell_type": "code",
   "execution_count": 219,
   "id": "5167709e",
   "metadata": {},
   "outputs": [],
   "source": [
    "# Evaluate the starting population\n",
    "def calc_fitness(pop):\n",
    "    fitness = pop @ item_values\n",
    "    return fitness\n",
    "\n",
    "# Choose the parents\n",
    "n_mating = 4\n",
    "\n",
    "def select_parents(pop, pop_fitness):\n",
    "    idx = np.argsort(pop_fitness)\n",
    "    idx = idx[::-1]\n",
    "    parents = pop[idx]\n",
    "    \n",
    "    # Select best of pop\n",
    "    parents = parents[:n_mating]\n",
    "    return (parents,calc_fitness(parents))"
   ]
  },
  {
   "cell_type": "code",
   "execution_count": 220,
   "id": "0e87d4ac",
   "metadata": {},
   "outputs": [],
   "source": [
    "# Recombination\n",
    "n_offspring = 3\n",
    "crossover_idx = 3\n",
    "\n",
    "def crossover(parents):\n",
    "    offspring = np.empty((n_offspring, n_items))\n",
    "    \n",
    "    for k in range(n_offspring):        \n",
    "        # Index of the first parent to mate.\n",
    "        p1_idx = k%n_mating\n",
    "\n",
    "        # Index of the second parent to mate.\n",
    "        p2_idx = (k+1)%n_mating\n",
    "        \n",
    "        offspring[k, :crossover_idx] = parents[p1_idx, :crossover_idx]\n",
    "        offspring[k, crossover_idx:] = parents[p2_idx, crossover_idx:]\n",
    "        \n",
    "    return (offspring, calc_fitness(offspring))"
   ]
  },
  {
   "cell_type": "code",
   "execution_count": 221,
   "id": "f1a0fa60",
   "metadata": {},
   "outputs": [],
   "source": [
    "# Mutation\n",
    "mutation_prob = 0.5\n",
    "def mutation(offspring):\n",
    "    random_mutator = np.random.uniform(0.0, 1.0, (n_offspring,))\n",
    "    \n",
    "    idx = random_mutator > mutation_prob\n",
    "    number_of_nonzeros = np.count_nonzero(idx)\n",
    "    mutated_offspring = offspring.copy()\n",
    "    mutated_offspring[idx] += np.random.uniform(-0.5,0.5,(number_of_nonzeros,n_items))\n",
    "    return (mutated_offspring, calc_fitness(mutated_offspring))"
   ]
  },
  {
   "cell_type": "code",
   "execution_count": 222,
   "id": "fb1c204b",
   "metadata": {},
   "outputs": [],
   "source": [
    "def calc_weight(pop):\n",
    "    weights = pop @ item_weights\n",
    "    return weights"
   ]
  },
  {
   "cell_type": "code",
   "execution_count": 223,
   "id": "705b8539",
   "metadata": {},
   "outputs": [],
   "source": [
    "max_weight = bag_capacity\n",
    "# eliminate members that don't meet weight constraint\n",
    "def weight_constraint(pop):\n",
    "    idx = (calc_weight(pop) <= max_weight)\n",
    "    return pop[idx]"
   ]
  },
  {
   "cell_type": "code",
   "execution_count": 224,
   "id": "0a04ed1e",
   "metadata": {},
   "outputs": [],
   "source": [
    "# rank members of big population and cut down to pop_size\n",
    "def environmental_selection(pop, pop_fitness):\n",
    "    idx = np.argsort(pop_fitness)\n",
    "    idx = idx[::-1]\n",
    "    pop = pop[idx]\n",
    "    \n",
    "    # Select best of pop\n",
    "    pop = pop[0:pop_size]\n",
    "\n",
    "    return (pop,calc_fitness(pop))"
   ]
  },
  {
   "cell_type": "code",
   "execution_count": 225,
   "id": "71d6cb79",
   "metadata": {},
   "outputs": [],
   "source": [
    "def generate_initial_pop():\n",
    "    # Represent the problem\n",
    "    pop_size = 10\n",
    "    dofs_in_pop = (pop_size,n_items)\n",
    "    \n",
    "\n",
    "    # starting population; each row is a member, each col an item\n",
    "    mu = 0.0 # mean\n",
    "    sigma = 0.3 # st. dev, spread\n",
    "    pop = np.absolute(np.round(np.random.normal(loc = mu, scale = sigma, size = dofs_in_pop))) \n",
    "    pop = weight_constraint(pop)\n",
    "    \n",
    "    # make sure all the starting pop meets weight constraint\n",
    "    while pop[:,1].size < pop_size:\n",
    "        dofs_in_pop = (pop_size-pop[:,1].size,n_items)\n",
    "        new_members = np.absolute(np.round(np.random.normal(loc = mu, scale = sigma, size = dofs_in_pop)))\n",
    "        pop = np.vstack((pop,new_members))\n",
    "        pop = weight_constraint(pop)\n",
    "    \n",
    "    return pop"
   ]
  },
  {
   "cell_type": "code",
   "execution_count": 228,
   "id": "4cc22928",
   "metadata": {},
   "outputs": [
    {
     "data": {
      "text/plain": [
       "array([591073.8106834 , 591070.68631213, 591070.68631213, 591069.5356359 ,\n",
       "       591067.53628077, 591064.64107357, 591062.79448519, 591062.37888572,\n",
       "       591062.37888572, 591062.37888572])"
      ]
     },
     "execution_count": 228,
     "metadata": {},
     "output_type": "execute_result"
    }
   ],
   "source": [
    "# algorithm to find optimal solution\n",
    "pop = generate_initial_pop()\n",
    "\n",
    "# iterate to approach optimal solution\n",
    "n_generations = 500000\n",
    "    \n",
    "for i in range(n_generations):\n",
    "    parents,_ = select_parents(pop,calc_fitness(pop))\n",
    "    offspring,_ = crossover(parents)\n",
    "    mutated_offspring,_ = mutation(offspring)\n",
    "    pop = np.vstack((pop, mutated_offspring))\n",
    "    pop = weight_constraint(pop)\n",
    "    pop,_ = environmental_selection(pop, calc_fitness(pop))\n",
    "    \n",
    "calc_fitness(pop)"
   ]
  },
  {
   "cell_type": "code",
   "execution_count": 229,
   "id": "44dce8e8",
   "metadata": {},
   "outputs": [
    {
     "data": {
      "text/plain": [
       "array([ 9.03466008, 17.57998845, 17.57998845, 19.23512888, 18.87345458,\n",
       "        0.7669482 , 15.3040466 , 18.16360676, 18.16360676, 18.16360676])"
      ]
     },
     "execution_count": 229,
     "metadata": {},
     "output_type": "execute_result"
    }
   ],
   "source": [
    "calc_weight(pop)"
   ]
  },
  {
   "cell_type": "code",
   "execution_count": null,
   "id": "163d93bd",
   "metadata": {},
   "outputs": [],
   "source": []
  }
 ],
 "metadata": {
  "kernelspec": {
   "display_name": "Python 3",
   "language": "python",
   "name": "python3"
  },
  "language_info": {
   "codemirror_mode": {
    "name": "ipython",
    "version": 3
   },
   "file_extension": ".py",
   "mimetype": "text/x-python",
   "name": "python",
   "nbconvert_exporter": "python",
   "pygments_lexer": "ipython3",
   "version": "3.8.8"
  }
 },
 "nbformat": 4,
 "nbformat_minor": 5
}
