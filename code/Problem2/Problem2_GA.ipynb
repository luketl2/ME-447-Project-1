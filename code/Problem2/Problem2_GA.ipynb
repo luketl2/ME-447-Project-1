{
 "cells": [
  {
   "cell_type": "code",
   "execution_count": 67,
   "id": "1be67725",
   "metadata": {},
   "outputs": [],
   "source": [
    "# Start by importing numpy\n",
    "import numpy as np"
   ]
  },
  {
   "cell_type": "code",
   "execution_count": 68,
   "id": "5167709e",
   "metadata": {},
   "outputs": [],
   "source": [
    "# Evaluate the starting population\n",
    "def calc_fitness(pop, item_values):\n",
    "    fitness = pop @ item_values\n",
    "    return fitness\n",
    "\n",
    "# Choose the parents\n",
    "n_mating = 4\n",
    "\n",
    "def select_parents(pop, pop_fitness):\n",
    "    idx = np.argsort(pop_fitness)\n",
    "    idx = idx[::-1]\n",
    "    parents = pop[idx]\n",
    "    \n",
    "    # Select best of pop\n",
    "    parents = parents[:n_mating]\n",
    "    return parents"
   ]
  },
  {
   "cell_type": "code",
   "execution_count": 69,
   "id": "0e87d4ac",
   "metadata": {},
   "outputs": [],
   "source": [
    "# Recombination\n",
    "n_offspring = 3\n",
    "crossover_idx = 3\n",
    "\n",
    "def crossover(parents):\n",
    "    offspring = np.empty((n_offspring, n_items))\n",
    "    \n",
    "    for k in range(n_offspring):        \n",
    "        # Index of the first parent to mate.\n",
    "        p1_idx = k%n_mating\n",
    "\n",
    "        # Index of the second parent to mate.\n",
    "        p2_idx = (k+1)%n_mating\n",
    "        \n",
    "        offspring[k, :crossover_idx] = parents[p1_idx, :crossover_idx]\n",
    "        offspring[k, crossover_idx:] = parents[p2_idx, crossover_idx:]\n",
    "        \n",
    "    return offspring"
   ]
  },
  {
   "cell_type": "code",
   "execution_count": 70,
   "id": "f1a0fa60",
   "metadata": {},
   "outputs": [],
   "source": [
    "# Mutation\n",
    "mutation_prob = 0.5\n",
    "def mutation(offspring):\n",
    "    random_mutator = np.random.uniform(0.0, 1.0, (n_offspring,))\n",
    "    \n",
    "    idx = random_mutator > mutation_prob\n",
    "    number_of_nonzeros = np.count_nonzero(idx)\n",
    "    mutated_offspring = offspring.copy()\n",
    "    mutated_offspring[idx] += np.round(np.random.uniform(-1,1,(number_of_nonzeros,n_items)))\n",
    "    idx = mutated_offspring < 0\n",
    "    mutated_offspring[idx] = 0\n",
    "    return mutated_offspring"
   ]
  },
  {
   "cell_type": "code",
   "execution_count": 71,
   "id": "fb1c204b",
   "metadata": {},
   "outputs": [],
   "source": [
    "def calc_weight(pop, item_weights):\n",
    "    weights = pop @ item_weights\n",
    "    return weights"
   ]
  },
  {
   "cell_type": "code",
   "execution_count": 72,
   "id": "705b8539",
   "metadata": {},
   "outputs": [],
   "source": [
    "# eliminate members that don't meet weight constraint\n",
    "def weight_constraint(pop, capacity, item_weights):\n",
    "    idx = (calc_weight(pop, item_weights) <= capacity)\n",
    "    return pop[idx]"
   ]
  },
  {
   "cell_type": "code",
   "execution_count": 73,
   "id": "0a04ed1e",
   "metadata": {},
   "outputs": [],
   "source": [
    "# rank members of big population and cut down to pop_size\n",
    "def environmental_selection(pop, pop_fitness, pop_size):\n",
    "    idx = np.argsort(pop_fitness)\n",
    "    idx = idx[::-1]\n",
    "    pop = pop[idx]\n",
    "    \n",
    "    # Select best of pop\n",
    "    pop = pop[0:pop_size]\n",
    "\n",
    "    return pop"
   ]
  },
  {
   "cell_type": "code",
   "execution_count": 74,
   "id": "a7828b2f",
   "metadata": {},
   "outputs": [],
   "source": [
    "def generate_initial_pop(data_set, pop_size):\n",
    "    \n",
    "    # Load the data for the problem\n",
    "    my_data = np.load(data_set)\n",
    "    bag_capacity = int(my_data['capacity'])\n",
    "    n_items = int(my_data['n_items'])\n",
    "    item_values = my_data['item_values']\n",
    "    item_weights = my_data['item_weights']\n",
    "    \n",
    "    dofs_in_pop = (pop_size,n_items)\n",
    "\n",
    "    # starting population; each row is a member, each col an item\n",
    "    mu = 0.0 # mean\n",
    "    sigma = 0.3 # st. dev, spread\n",
    "    pop = np.absolute(np.round(np.random.normal(loc = mu, scale = sigma, size = dofs_in_pop))) \n",
    "    pop = weight_constraint(pop, bag_capacity, item_weights)\n",
    "    \n",
    "    # make sure all the starting pop meets weight constraint\n",
    "    while pop[:,1].size < pop_size:\n",
    "        dofs_in_pop = (pop_size-pop[:,1].size,n_items)\n",
    "        new_members = np.absolute(np.round(np.random.normal(loc = mu, scale = sigma, size = dofs_in_pop)))\n",
    "        pop = np.vstack((pop,new_members))\n",
    "        pop = weight_constraint(pop, bag_capacity, item_weights)\n",
    "    \n",
    "    return pop"
   ]
  },
  {
   "cell_type": "code",
   "execution_count": 75,
   "id": "4cc22928",
   "metadata": {},
   "outputs": [],
   "source": [
    "# dataset A: algorithm to find optimal solution\n",
    "my_data = np.load('A.npz')\n",
    "bag_capacity = int(my_data['capacity'])\n",
    "n_items = int(my_data['n_items'])\n",
    "item_values = my_data['item_values']\n",
    "item_weights = my_data['item_weights']\n",
    "\n",
    "pop_size = 10\n",
    "pop = generate_initial_pop('A.npz', pop_size)\n",
    "\n",
    "# iterate to approach optimal solution\n",
    "n_generations = 10000\n",
    "    \n",
    "for i in range(n_generations):\n",
    "    parents = select_parents(pop,calc_fitness(pop, item_values))\n",
    "    offspring = crossover(parents)\n",
    "    mutated_offspring = mutation(offspring)\n",
    "    pop = np.vstack((pop, mutated_offspring))\n",
    "    pop = weight_constraint(pop, bag_capacity, item_weights)\n",
    "    pop_A = environmental_selection(pop, calc_fitness(pop, item_values), pop_size)"
   ]
  },
  {
   "cell_type": "code",
   "execution_count": 80,
   "id": "b0502de6",
   "metadata": {},
   "outputs": [
    {
     "name": "stdout",
     "output_type": "stream",
     "text": [
      "[[1. 1. 0. 0. 1. 0. 0. 0. 0. 1. 0. 0. 0. 0. 0. 0. 0. 0. 0. 0. 0. 0. 1. 0.\n",
      "  0. 1. 0. 0. 0. 0. 2. 0. 0. 0. 0. 0. 0. 0. 0. 1. 0. 0. 0. 1. 0. 0. 0. 0.\n",
      "  0. 0.]\n",
      " [1. 1. 0. 0. 1. 0. 0. 0. 0. 1. 0. 0. 0. 0. 0. 0. 0. 0. 0. 0. 0. 0. 1. 0.\n",
      "  0. 1. 0. 0. 0. 0. 2. 0. 0. 0. 0. 0. 0. 0. 0. 1. 0. 0. 0. 1. 0. 0. 0. 0.\n",
      "  0. 0.]\n",
      " [1. 1. 0. 0. 1. 0. 0. 0. 0. 1. 0. 0. 0. 0. 0. 0. 0. 0. 0. 0. 0. 0. 1. 0.\n",
      "  0. 1. 0. 0. 0. 0. 2. 0. 0. 0. 0. 0. 0. 0. 0. 1. 0. 0. 0. 1. 0. 0. 0. 0.\n",
      "  0. 0.]\n",
      " [1. 1. 0. 0. 1. 0. 0. 0. 0. 1. 0. 0. 0. 0. 0. 0. 0. 0. 0. 0. 0. 0. 1. 0.\n",
      "  0. 1. 0. 0. 0. 0. 2. 0. 0. 0. 0. 0. 0. 0. 0. 1. 0. 0. 0. 1. 0. 0. 0. 0.\n",
      "  0. 0.]\n",
      " [1. 1. 0. 0. 1. 0. 0. 0. 0. 1. 0. 0. 0. 0. 0. 0. 0. 0. 0. 0. 0. 0. 1. 0.\n",
      "  0. 1. 0. 0. 0. 0. 2. 0. 0. 0. 0. 0. 0. 0. 0. 1. 0. 0. 0. 1. 0. 0. 0. 0.\n",
      "  0. 0.]\n",
      " [1. 1. 0. 0. 1. 0. 0. 0. 0. 1. 0. 0. 0. 0. 0. 0. 0. 0. 0. 0. 0. 0. 1. 0.\n",
      "  0. 1. 0. 0. 0. 0. 2. 0. 0. 0. 0. 0. 0. 0. 0. 1. 0. 0. 0. 1. 0. 0. 0. 0.\n",
      "  0. 0.]\n",
      " [1. 1. 0. 0. 1. 0. 0. 0. 0. 1. 0. 0. 0. 0. 0. 0. 0. 0. 0. 0. 0. 0. 1. 0.\n",
      "  0. 1. 0. 0. 0. 0. 2. 0. 0. 0. 0. 0. 0. 0. 0. 1. 0. 0. 0. 1. 0. 0. 0. 0.\n",
      "  0. 0.]\n",
      " [1. 1. 0. 0. 1. 0. 0. 0. 0. 1. 0. 0. 0. 0. 0. 0. 0. 0. 0. 0. 0. 0. 1. 0.\n",
      "  0. 1. 0. 0. 0. 0. 2. 0. 0. 0. 0. 0. 0. 0. 0. 1. 0. 0. 0. 1. 0. 0. 0. 0.\n",
      "  0. 0.]\n",
      " [1. 1. 0. 0. 1. 0. 0. 0. 0. 1. 0. 0. 0. 0. 0. 0. 0. 0. 0. 0. 0. 0. 1. 0.\n",
      "  0. 1. 0. 0. 0. 0. 2. 0. 0. 0. 0. 0. 0. 0. 0. 1. 0. 0. 0. 1. 0. 0. 0. 0.\n",
      "  0. 0.]\n",
      " [1. 1. 0. 0. 1. 0. 0. 0. 0. 1. 0. 0. 0. 0. 0. 0. 0. 0. 0. 0. 0. 0. 1. 0.\n",
      "  0. 1. 0. 0. 0. 0. 2. 0. 0. 0. 0. 0. 0. 0. 0. 1. 0. 0. 0. 1. 0. 0. 0. 0.\n",
      "  0. 0.]]\n",
      "[65. 65. 65. 65. 65. 65. 65. 65. 65. 65.]\n",
      "[20. 20. 20. 20. 20. 20. 20. 20. 20. 20.]\n"
     ]
    }
   ],
   "source": [
    "print(pop_A)\n",
    "print(calc_fitness(pop_A, item_values))\n",
    "print(calc_weight(pop_A, item_weights))"
   ]
  },
  {
   "cell_type": "code",
   "execution_count": 90,
   "id": "bf01ecfe",
   "metadata": {},
   "outputs": [],
   "source": [
    "# dataset B: algorithm to find optimal solution\n",
    "my_data = np.load('B.npz')\n",
    "bag_capacity = int(my_data['capacity'])\n",
    "n_items = int(my_data['n_items'])\n",
    "item_values = my_data['item_values']\n",
    "item_weights = my_data['item_weights']\n",
    "\n",
    "pop_size = 10\n",
    "pop = generate_initial_pop('B.npz', pop_size)\n",
    "\n",
    "# iterate to approach optimal solution\n",
    "n_generations = 10000\n",
    "    \n",
    "for i in range(n_generations):\n",
    "    parents = select_parents(pop,calc_fitness(pop, item_values))\n",
    "    offspring = crossover(parents)\n",
    "    mutated_offspring = mutation(offspring)\n",
    "    pop = np.vstack((pop, mutated_offspring))\n",
    "    pop = weight_constraint(pop, bag_capacity, item_weights)\n",
    "    pop_B = environmental_selection(pop, calc_fitness(pop, item_values), pop_size)"
   ]
  },
  {
   "cell_type": "code",
   "execution_count": 91,
   "id": "92aa8281",
   "metadata": {},
   "outputs": [
    {
     "name": "stdout",
     "output_type": "stream",
     "text": [
      "[[0. 0. 7. 0. 1. 1. 1. 0. 0. 3. 0. 0. 4. 2. 0. 1. 9. 0. 0. 0. 0. 0. 3. 1.\n",
      "  1. 1. 0. 0. 0. 0. 1. 7. 0. 2. 0. 0. 0. 0. 0. 5. 0. 5. 0. 0. 0. 3. 0. 0.\n",
      "  0. 0.]\n",
      " [0. 0. 7. 0. 0. 1. 0. 0. 0. 3. 0. 0. 2. 3. 0. 2. 8. 1. 1. 0. 0. 1. 4. 0.\n",
      "  0. 1. 1. 0. 0. 0. 0. 6. 0. 1. 0. 0. 1. 0. 0. 6. 0. 5. 0. 0. 0. 2. 0. 0.\n",
      "  0. 2.]\n",
      " [0. 0. 7. 0. 0. 1. 0. 0. 0. 3. 0. 0. 2. 3. 0. 2. 8. 1. 1. 0. 0. 1. 4. 0.\n",
      "  0. 1. 1. 0. 0. 0. 0. 6. 0. 1. 0. 0. 1. 0. 0. 6. 0. 5. 0. 0. 0. 2. 0. 0.\n",
      "  0. 2.]\n",
      " [0. 0. 7. 0. 0. 1. 0. 0. 0. 3. 0. 0. 2. 3. 0. 2. 8. 1. 1. 0. 0. 1. 4. 0.\n",
      "  0. 1. 1. 0. 0. 0. 0. 6. 0. 1. 0. 0. 1. 0. 0. 6. 0. 5. 0. 0. 0. 2. 0. 0.\n",
      "  0. 2.]\n",
      " [0. 0. 7. 0. 0. 1. 0. 0. 0. 3. 0. 0. 2. 3. 0. 2. 8. 1. 1. 0. 0. 1. 4. 0.\n",
      "  0. 1. 1. 0. 0. 0. 0. 6. 0. 1. 0. 0. 1. 0. 0. 6. 0. 5. 0. 0. 0. 2. 0. 0.\n",
      "  0. 2.]\n",
      " [0. 0. 7. 0. 0. 1. 0. 0. 0. 3. 0. 0. 2. 3. 0. 2. 8. 1. 1. 0. 0. 1. 4. 0.\n",
      "  0. 1. 1. 0. 0. 0. 0. 6. 0. 1. 0. 0. 1. 0. 0. 6. 0. 5. 0. 0. 0. 2. 0. 0.\n",
      "  0. 2.]\n",
      " [0. 0. 7. 0. 0. 1. 0. 0. 0. 3. 0. 0. 2. 3. 0. 2. 8. 1. 1. 0. 0. 1. 4. 0.\n",
      "  0. 1. 1. 0. 0. 0. 0. 6. 0. 1. 0. 0. 1. 0. 0. 6. 0. 5. 0. 0. 0. 2. 0. 0.\n",
      "  0. 2.]\n",
      " [0. 0. 7. 0. 0. 1. 0. 0. 0. 3. 0. 0. 2. 3. 0. 2. 8. 1. 1. 0. 0. 1. 4. 0.\n",
      "  0. 1. 1. 0. 0. 0. 0. 6. 0. 1. 0. 0. 1. 0. 0. 6. 0. 5. 0. 0. 0. 2. 0. 0.\n",
      "  0. 2.]\n",
      " [0. 0. 7. 0. 0. 1. 0. 0. 0. 3. 0. 0. 2. 3. 0. 2. 8. 1. 1. 0. 0. 1. 4. 0.\n",
      "  0. 1. 1. 0. 0. 0. 0. 6. 0. 1. 0. 0. 1. 0. 0. 6. 0. 5. 0. 0. 0. 2. 0. 0.\n",
      "  0. 2.]\n",
      " [0. 0. 7. 0. 0. 1. 0. 0. 0. 3. 0. 0. 2. 3. 0. 2. 8. 1. 1. 0. 0. 1. 4. 0.\n",
      "  0. 1. 1. 0. 0. 0. 0. 6. 0. 1. 0. 0. 1. 0. 0. 6. 0. 5. 0. 0. 0. 2. 0. 0.\n",
      "  0. 2.]]\n",
      "[439. 436. 436. 436. 436. 436. 436. 436. 436. 436.]\n",
      "[149. 146. 146. 146. 146. 146. 146. 146. 146. 146.]\n",
      "149\n"
     ]
    }
   ],
   "source": [
    "print(pop_B)\n",
    "print(calc_fitness(pop_B, item_values))\n",
    "print(calc_weight(pop_B, item_weights))\n",
    "print(bag_capacity)"
   ]
  }
 ],
 "metadata": {
  "kernelspec": {
   "display_name": "Python 3",
   "language": "python",
   "name": "python3"
  },
  "language_info": {
   "codemirror_mode": {
    "name": "ipython",
    "version": 3
   },
   "file_extension": ".py",
   "mimetype": "text/x-python",
   "name": "python",
   "nbconvert_exporter": "python",
   "pygments_lexer": "ipython3",
   "version": "3.8.8"
  }
 },
 "nbformat": 4,
 "nbformat_minor": 5
}
